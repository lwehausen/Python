{
  "nbformat": 4,
  "nbformat_minor": 0,
  "metadata": {
    "colab": {
      "provenance": [],
      "authorship_tag": "ABX9TyNjoP3UlPumDAKT73xMZowF",
      "include_colab_link": true
    },
    "kernelspec": {
      "name": "python3",
      "display_name": "Python 3"
    },
    "language_info": {
      "name": "python"
    }
  },
  "cells": [
    {
      "cell_type": "markdown",
      "metadata": {
        "id": "view-in-github",
        "colab_type": "text"
      },
      "source": [
        "<a href=\"https://colab.research.google.com/github/lwehausen/Python/blob/main/Cubs_Data_Analysis_Data_Viz.ipynb\" target=\"_parent\"><img src=\"https://colab.research.google.com/assets/colab-badge.svg\" alt=\"Open In Colab\"/></a>"
      ]
    },
    {
      "cell_type": "markdown",
      "source": [
        "This file displays data analysis and data visualizations in Python."
      ],
      "metadata": {
        "id": "1Y6HkILiOnxK"
      }
    },
    {
      "cell_type": "markdown",
      "source": [
        "The cubs csv file contains Cubs data between 1876-2022. The variables included are: Year, Team (Tm), League (Lg), Games Played (G), Wins (W), Losses (L), Ties, Winning percentage (W-L%) , Pythagorean winning percentage (pythW-L%), Finish, Number of Fair Ground Balls Hit (GB), Playoffs, Runs (R), Runs Allowed (RA), Attendance, BatAge, PAge, #Bat, #P, Top Player, Managers"
      ],
      "metadata": {
        "id": "z93saq2wLtVd"
      }
    },
    {
      "cell_type": "markdown",
      "source": [
        "Using the cubs csv file, answer the following questions:"
      ],
      "metadata": {
        "id": "ZKzfCV2fJkWm"
      }
    },
    {
      "cell_type": "code",
      "source": [
        "import pandas as pd\n",
        "import numpy as np\n",
        "import matplotlib.pyplot as plt\n",
        "cubs = pd.read_csv(\"https://raw.githubusercontent.com/gjm112/DSCI401/main/data/cubs_all_time.csv\")"
      ],
      "metadata": {
        "id": "oVCQjFdMIvV-"
      },
      "execution_count": 1,
      "outputs": []
    },
    {
      "cell_type": "markdown",
      "source": [
        "How many total games have the Cubs won between 1876\n",
        "and 2022?"
      ],
      "metadata": {
        "id": "X-B1V8E3Jg5C"
      }
    },
    {
      "cell_type": "code",
      "source": [
        "sum(cubs.W)"
      ],
      "metadata": {
        "id": "_T0Lu8wxzCzV",
        "colab": {
          "base_uri": "https://localhost:8080/"
        },
        "outputId": "90967f2f-e85b-4493-cbfa-b5f81a850e04"
      },
      "execution_count": 2,
      "outputs": [
        {
          "output_type": "execute_result",
          "data": {
            "text/plain": [
              "11141"
            ]
          },
          "metadata": {},
          "execution_count": 2
        }
      ]
    },
    {
      "cell_type": "markdown",
      "source": [
        "The Cubs have won 11141 games between 1876-2022."
      ],
      "metadata": {
        "id": "n5MMHTzDESzO"
      }
    },
    {
      "cell_type": "markdown",
      "source": [
        "How many total games have the Cubs lost between 1876\n",
        "and 2022?"
      ],
      "metadata": {
        "id": "9KZklDyWEL79"
      }
    },
    {
      "cell_type": "code",
      "source": [
        "sum(cubs.L)"
      ],
      "metadata": {
        "colab": {
          "base_uri": "https://localhost:8080/"
        },
        "id": "BCYSP4ZuEHz2",
        "outputId": "6fa41d1e-d5bf-4738-cc34-2721e93c9aa1"
      },
      "execution_count": 3,
      "outputs": [
        {
          "output_type": "execute_result",
          "data": {
            "text/plain": [
              "10592"
            ]
          },
          "metadata": {},
          "execution_count": 3
        }
      ]
    },
    {
      "cell_type": "markdown",
      "source": [
        "The Cubs have lost 10592 games between 1876 and 2022."
      ],
      "metadata": {
        "id": "s0dXcJ3cEZ_o"
      }
    },
    {
      "cell_type": "markdown",
      "source": [
        "What year did the Cubs score the most runs?"
      ],
      "metadata": {
        "id": "Gw0VTgLrJwSK"
      }
    },
    {
      "cell_type": "code",
      "source": [
        "max(cubs.R)\n",
        "np.argmax(cubs.W)\n",
        "cubs.Year[np.argmax(cubs.R)]"
      ],
      "metadata": {
        "id": "Te_Wa2ZGBjyc",
        "colab": {
          "base_uri": "https://localhost:8080/"
        },
        "outputId": "780dbd1e-c224-4160-80d2-790df3102e57"
      },
      "execution_count": null,
      "outputs": [
        {
          "output_type": "execute_result",
          "data": {
            "text/plain": [
              "1894"
            ]
          },
          "metadata": {},
          "execution_count": 2
        }
      ]
    },
    {
      "cell_type": "markdown",
      "source": [
        "What year did the\n",
        "Cubs score the fewest runs?"
      ],
      "metadata": {
        "id": "g_008p4lKFtP"
      }
    },
    {
      "cell_type": "code",
      "source": [
        "min(cubs.R)\n",
        "np.argmin(cubs.W)\n",
        "cubs.Year[np.argmin(cubs.R)]"
      ],
      "metadata": {
        "colab": {
          "base_uri": "https://localhost:8080/"
        },
        "id": "ahylzrFEJ-fz",
        "outputId": "4c02bce5-ef1f-436e-f5ec-acef7179faa3"
      },
      "execution_count": null,
      "outputs": [
        {
          "output_type": "execute_result",
          "data": {
            "text/plain": [
              "2020"
            ]
          },
          "metadata": {},
          "execution_count": 4
        }
      ]
    },
    {
      "cell_type": "markdown",
      "source": [
        "Note that the Cubs had their worst year in 2020, the same year that the COVID-19 pandemic started. Despite their lack of runs, no players had positive test results during the season!"
      ],
      "metadata": {
        "id": "LE7-xEOLKZQ0"
      }
    },
    {
      "cell_type": "markdown",
      "source": [
        "In how many seasons was the Cubs total attendance (i.e. the variable\n",
        "Attendance) over 3 million?"
      ],
      "metadata": {
        "id": "jc0O2P09LXE_"
      }
    },
    {
      "cell_type": "code",
      "source": [
        "cubs[cubs['Attendance'] >= 3000000]\n",
        "sum(cubs.Attendance > 3000000)"
      ],
      "metadata": {
        "colab": {
          "base_uri": "https://localhost:8080/"
        },
        "id": "vS9aWti7IkGp",
        "outputId": "18b0ead0-f8af-4fba-ff66-22a50509de14"
      },
      "execution_count": null,
      "outputs": [
        {
          "output_type": "execute_result",
          "data": {
            "text/plain": [
              "12"
            ]
          },
          "metadata": {},
          "execution_count": 7
        }
      ]
    },
    {
      "cell_type": "markdown",
      "source": [
        "There were 12 seasons where the attendance was greater than or equal to 3 million."
      ],
      "metadata": {
        "id": "QLY8GKlkQqrd"
      }
    }
  ]
}