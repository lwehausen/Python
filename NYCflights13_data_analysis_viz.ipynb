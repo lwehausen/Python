{
  "nbformat": 4,
  "nbformat_minor": 0,
  "metadata": {
    "colab": {
      "provenance": [],
      "authorship_tag": "ABX9TyOqrz2pmKwjIXCD4hg1ObyA",
      "include_colab_link": true
    },
    "kernelspec": {
      "name": "python3",
      "display_name": "Python 3"
    },
    "language_info": {
      "name": "python"
    }
  },
  "cells": [
    {
      "cell_type": "markdown",
      "metadata": {
        "id": "view-in-github",
        "colab_type": "text"
      },
      "source": [
        "<a href=\"https://colab.research.google.com/github/lwehausen/Python/blob/main/NYCflights13_data_analysis_viz.ipynb\" target=\"_parent\"><img src=\"https://colab.research.google.com/assets/colab-badge.svg\" alt=\"Open In Colab\"/></a>"
      ]
    },
    {
      "cell_type": "markdown",
      "source": [
        "A data analysis and data visualization using the flights, airlines, and airports data frames and planes table in the nycflights13 package."
      ],
      "metadata": {
        "id": "QxaeAO39ymXh"
      }
    },
    {
      "cell_type": "code",
      "execution_count": null,
      "metadata": {
        "id": "yk62iYwUyjiz"
      },
      "outputs": [],
      "source": [
        "import matplotlib.pyplot as plt\n",
        "import numpy as np\n",
        "import pandas as pd\n",
        "import seaborn as sns"
      ]
    },
    {
      "cell_type": "code",
      "source": [
        "flights = pd.read_csv(\"https://raw.githubusercontent.com/gjm112/DSCI401/main/data/flights.csv\")"
      ],
      "metadata": {
        "id": "ecBhTywuzBcC"
      },
      "execution_count": null,
      "outputs": []
    },
    {
      "cell_type": "code",
      "source": [
        "airlines = pd.read_csv(\"https://raw.githubusercontent.com/gjm112/DSCI401/main/data/airlines.csv\")"
      ],
      "metadata": {
        "id": "8A7rl6NF7sAy"
      },
      "execution_count": 29,
      "outputs": []
    },
    {
      "cell_type": "code",
      "source": [
        "airports = pd.read_csv(\"https://raw.githubusercontent.com/gjm112/DSCI401/main/data/airports.csv\")"
      ],
      "metadata": {
        "id": "o6gc4LNB7s6V"
      },
      "execution_count": 30,
      "outputs": []
    },
    {
      "cell_type": "code",
      "source": [
        "planes = pd.read_csv(\"https://raw.githubusercontent.com/gjm112/DSCI401/main/data/planes.csv\")"
      ],
      "metadata": {
        "id": "ra1KkmxV7w2K"
      },
      "execution_count": 31,
      "outputs": []
    },
    {
      "cell_type": "markdown",
      "source": [
        "What month had the highest proportion of cancelled\n",
        "flights? What month had the lowest? Interpret any seasonal patterns."
      ],
      "metadata": {
        "id": "Q0J2jHF5zGgU"
      }
    },
    {
      "cell_type": "code",
      "source": [
        "prop = pd.DataFrame(flights.groupby(\"month\")[\"month\"].count())\n",
        "prop.columns = [\"count\"] # Renaming column name to count of flights\n",
        "sum = prop.sum() # Total number of flights\n",
        "prop[\"proportion\"] = prop.apply(lambda count: 100*count/float(count.sum())) # percentage flights / total\n",
        "prop"
      ],
      "metadata": {
        "colab": {
          "base_uri": "https://localhost:8080/",
          "height": 457
        },
        "id": "BqluzoUwzCu2",
        "outputId": "040e5f68-575d-4bdc-af98-ef03558f45c0"
      },
      "execution_count": null,
      "outputs": [
        {
          "output_type": "execute_result",
          "data": {
            "text/plain": [
              "       count  proportion\n",
              "month                   \n",
              "1      27004    8.018386\n",
              "2      24951    7.408782\n",
              "3      28834    8.561774\n",
              "4      28330    8.412120\n",
              "5      28796    8.550491\n",
              "6      28243    8.386286\n",
              "7      29425    8.737262\n",
              "8      29327    8.708162\n",
              "9      27574    8.187638\n",
              "10     28889    8.578105\n",
              "11     27268    8.096776\n",
              "12     28135    8.354218"
            ],
            "text/html": [
              "\n",
              "\n",
              "  <div id=\"df-25d83438-44fc-4658-9ead-41e7637e1dc0\">\n",
              "    <div class=\"colab-df-container\">\n",
              "      <div>\n",
              "<style scoped>\n",
              "    .dataframe tbody tr th:only-of-type {\n",
              "        vertical-align: middle;\n",
              "    }\n",
              "\n",
              "    .dataframe tbody tr th {\n",
              "        vertical-align: top;\n",
              "    }\n",
              "\n",
              "    .dataframe thead th {\n",
              "        text-align: right;\n",
              "    }\n",
              "</style>\n",
              "<table border=\"1\" class=\"dataframe\">\n",
              "  <thead>\n",
              "    <tr style=\"text-align: right;\">\n",
              "      <th></th>\n",
              "      <th>count</th>\n",
              "      <th>proportion</th>\n",
              "    </tr>\n",
              "    <tr>\n",
              "      <th>month</th>\n",
              "      <th></th>\n",
              "      <th></th>\n",
              "    </tr>\n",
              "  </thead>\n",
              "  <tbody>\n",
              "    <tr>\n",
              "      <th>1</th>\n",
              "      <td>27004</td>\n",
              "      <td>8.018386</td>\n",
              "    </tr>\n",
              "    <tr>\n",
              "      <th>2</th>\n",
              "      <td>24951</td>\n",
              "      <td>7.408782</td>\n",
              "    </tr>\n",
              "    <tr>\n",
              "      <th>3</th>\n",
              "      <td>28834</td>\n",
              "      <td>8.561774</td>\n",
              "    </tr>\n",
              "    <tr>\n",
              "      <th>4</th>\n",
              "      <td>28330</td>\n",
              "      <td>8.412120</td>\n",
              "    </tr>\n",
              "    <tr>\n",
              "      <th>5</th>\n",
              "      <td>28796</td>\n",
              "      <td>8.550491</td>\n",
              "    </tr>\n",
              "    <tr>\n",
              "      <th>6</th>\n",
              "      <td>28243</td>\n",
              "      <td>8.386286</td>\n",
              "    </tr>\n",
              "    <tr>\n",
              "      <th>7</th>\n",
              "      <td>29425</td>\n",
              "      <td>8.737262</td>\n",
              "    </tr>\n",
              "    <tr>\n",
              "      <th>8</th>\n",
              "      <td>29327</td>\n",
              "      <td>8.708162</td>\n",
              "    </tr>\n",
              "    <tr>\n",
              "      <th>9</th>\n",
              "      <td>27574</td>\n",
              "      <td>8.187638</td>\n",
              "    </tr>\n",
              "    <tr>\n",
              "      <th>10</th>\n",
              "      <td>28889</td>\n",
              "      <td>8.578105</td>\n",
              "    </tr>\n",
              "    <tr>\n",
              "      <th>11</th>\n",
              "      <td>27268</td>\n",
              "      <td>8.096776</td>\n",
              "    </tr>\n",
              "    <tr>\n",
              "      <th>12</th>\n",
              "      <td>28135</td>\n",
              "      <td>8.354218</td>\n",
              "    </tr>\n",
              "  </tbody>\n",
              "</table>\n",
              "</div>\n",
              "      <button class=\"colab-df-convert\" onclick=\"convertToInteractive('df-25d83438-44fc-4658-9ead-41e7637e1dc0')\"\n",
              "              title=\"Convert this dataframe to an interactive table.\"\n",
              "              style=\"display:none;\">\n",
              "\n",
              "  <svg xmlns=\"http://www.w3.org/2000/svg\" height=\"24px\"viewBox=\"0 0 24 24\"\n",
              "       width=\"24px\">\n",
              "    <path d=\"M0 0h24v24H0V0z\" fill=\"none\"/>\n",
              "    <path d=\"M18.56 5.44l.94 2.06.94-2.06 2.06-.94-2.06-.94-.94-2.06-.94 2.06-2.06.94zm-11 1L8.5 8.5l.94-2.06 2.06-.94-2.06-.94L8.5 2.5l-.94 2.06-2.06.94zm10 10l.94 2.06.94-2.06 2.06-.94-2.06-.94-.94-2.06-.94 2.06-2.06.94z\"/><path d=\"M17.41 7.96l-1.37-1.37c-.4-.4-.92-.59-1.43-.59-.52 0-1.04.2-1.43.59L10.3 9.45l-7.72 7.72c-.78.78-.78 2.05 0 2.83L4 21.41c.39.39.9.59 1.41.59.51 0 1.02-.2 1.41-.59l7.78-7.78 2.81-2.81c.8-.78.8-2.07 0-2.86zM5.41 20L4 18.59l7.72-7.72 1.47 1.35L5.41 20z\"/>\n",
              "  </svg>\n",
              "      </button>\n",
              "\n",
              "\n",
              "\n",
              "    <div id=\"df-115711ac-5e3b-4aa6-b8d0-2a8f843a7a3e\">\n",
              "      <button class=\"colab-df-quickchart\" onclick=\"quickchart('df-115711ac-5e3b-4aa6-b8d0-2a8f843a7a3e')\"\n",
              "              title=\"Suggest charts.\"\n",
              "              style=\"display:none;\">\n",
              "\n",
              "<svg xmlns=\"http://www.w3.org/2000/svg\" height=\"24px\"viewBox=\"0 0 24 24\"\n",
              "     width=\"24px\">\n",
              "    <g>\n",
              "        <path d=\"M19 3H5c-1.1 0-2 .9-2 2v14c0 1.1.9 2 2 2h14c1.1 0 2-.9 2-2V5c0-1.1-.9-2-2-2zM9 17H7v-7h2v7zm4 0h-2V7h2v10zm4 0h-2v-4h2v4z\"/>\n",
              "    </g>\n",
              "</svg>\n",
              "      </button>\n",
              "    </div>\n",
              "\n",
              "<style>\n",
              "  .colab-df-quickchart {\n",
              "    background-color: #E8F0FE;\n",
              "    border: none;\n",
              "    border-radius: 50%;\n",
              "    cursor: pointer;\n",
              "    display: none;\n",
              "    fill: #1967D2;\n",
              "    height: 32px;\n",
              "    padding: 0 0 0 0;\n",
              "    width: 32px;\n",
              "  }\n",
              "\n",
              "  .colab-df-quickchart:hover {\n",
              "    background-color: #E2EBFA;\n",
              "    box-shadow: 0px 1px 2px rgba(60, 64, 67, 0.3), 0px 1px 3px 1px rgba(60, 64, 67, 0.15);\n",
              "    fill: #174EA6;\n",
              "  }\n",
              "\n",
              "  [theme=dark] .colab-df-quickchart {\n",
              "    background-color: #3B4455;\n",
              "    fill: #D2E3FC;\n",
              "  }\n",
              "\n",
              "  [theme=dark] .colab-df-quickchart:hover {\n",
              "    background-color: #434B5C;\n",
              "    box-shadow: 0px 1px 3px 1px rgba(0, 0, 0, 0.15);\n",
              "    filter: drop-shadow(0px 1px 2px rgba(0, 0, 0, 0.3));\n",
              "    fill: #FFFFFF;\n",
              "  }\n",
              "</style>\n",
              "\n",
              "    <script>\n",
              "      async function quickchart(key) {\n",
              "        const containerElement = document.querySelector('#' + key);\n",
              "        const charts = await google.colab.kernel.invokeFunction(\n",
              "            'suggestCharts', [key], {});\n",
              "      }\n",
              "    </script>\n",
              "\n",
              "      <script>\n",
              "\n",
              "function displayQuickchartButton(domScope) {\n",
              "  let quickchartButtonEl =\n",
              "    domScope.querySelector('#df-115711ac-5e3b-4aa6-b8d0-2a8f843a7a3e button.colab-df-quickchart');\n",
              "  quickchartButtonEl.style.display =\n",
              "    google.colab.kernel.accessAllowed ? 'block' : 'none';\n",
              "}\n",
              "\n",
              "        displayQuickchartButton(document);\n",
              "      </script>\n",
              "      <style>\n",
              "    .colab-df-container {\n",
              "      display:flex;\n",
              "      flex-wrap:wrap;\n",
              "      gap: 12px;\n",
              "    }\n",
              "\n",
              "    .colab-df-convert {\n",
              "      background-color: #E8F0FE;\n",
              "      border: none;\n",
              "      border-radius: 50%;\n",
              "      cursor: pointer;\n",
              "      display: none;\n",
              "      fill: #1967D2;\n",
              "      height: 32px;\n",
              "      padding: 0 0 0 0;\n",
              "      width: 32px;\n",
              "    }\n",
              "\n",
              "    .colab-df-convert:hover {\n",
              "      background-color: #E2EBFA;\n",
              "      box-shadow: 0px 1px 2px rgba(60, 64, 67, 0.3), 0px 1px 3px 1px rgba(60, 64, 67, 0.15);\n",
              "      fill: #174EA6;\n",
              "    }\n",
              "\n",
              "    [theme=dark] .colab-df-convert {\n",
              "      background-color: #3B4455;\n",
              "      fill: #D2E3FC;\n",
              "    }\n",
              "\n",
              "    [theme=dark] .colab-df-convert:hover {\n",
              "      background-color: #434B5C;\n",
              "      box-shadow: 0px 1px 3px 1px rgba(0, 0, 0, 0.15);\n",
              "      filter: drop-shadow(0px 1px 2px rgba(0, 0, 0, 0.3));\n",
              "      fill: #FFFFFF;\n",
              "    }\n",
              "  </style>\n",
              "\n",
              "      <script>\n",
              "        const buttonEl =\n",
              "          document.querySelector('#df-25d83438-44fc-4658-9ead-41e7637e1dc0 button.colab-df-convert');\n",
              "        buttonEl.style.display =\n",
              "          google.colab.kernel.accessAllowed ? 'block' : 'none';\n",
              "\n",
              "        async function convertToInteractive(key) {\n",
              "          const element = document.querySelector('#df-25d83438-44fc-4658-9ead-41e7637e1dc0');\n",
              "          const dataTable =\n",
              "            await google.colab.kernel.invokeFunction('convertToInteractive',\n",
              "                                                     [key], {});\n",
              "          if (!dataTable) return;\n",
              "\n",
              "          const docLinkHtml = 'Like what you see? Visit the ' +\n",
              "            '<a target=\"_blank\" href=https://colab.research.google.com/notebooks/data_table.ipynb>data table notebook</a>'\n",
              "            + ' to learn more about interactive tables.';\n",
              "          element.innerHTML = '';\n",
              "          dataTable['output_type'] = 'display_data';\n",
              "          await google.colab.output.renderOutput(dataTable, element);\n",
              "          const docLink = document.createElement('div');\n",
              "          docLink.innerHTML = docLinkHtml;\n",
              "          element.appendChild(docLink);\n",
              "        }\n",
              "      </script>\n",
              "    </div>\n",
              "  </div>\n"
            ]
          },
          "metadata": {},
          "execution_count": 3
        }
      ]
    },
    {
      "cell_type": "markdown",
      "source": [
        "Since this gives the proportion of flights that were not canceled, look for the months with the lowest values for months with the highest proportion of canceled flights. Now we can see that February had the most cancellations and October had the least cancellations."
      ],
      "metadata": {
        "id": "sDeTMzD_zUuI"
      }
    },
    {
      "cell_type": "markdown",
      "source": [
        "Given that a delay is longer than an hour, what is the\n",
        "average time of the total delay by airport (i.e. origin)"
      ],
      "metadata": {
        "id": "L5jkc7GuzVkk"
      }
    },
    {
      "cell_type": "markdown",
      "source": [
        "Average arrival delay of flights, by airport:"
      ],
      "metadata": {
        "id": "YKRTr_PtzgF_"
      }
    },
    {
      "cell_type": "code",
      "source": [
        "by_airport = flights.groupby([\"origin\"])\n",
        "by_airport.arr_delay.mean()"
      ],
      "metadata": {
        "colab": {
          "base_uri": "https://localhost:8080/"
        },
        "id": "aASxjVe8zZ9B",
        "outputId": "6063eaa5-ef2b-4d95-eec9-944757c1483f"
      },
      "execution_count": null,
      "outputs": [
        {
          "output_type": "execute_result",
          "data": {
            "text/plain": [
              "origin\n",
              "EWR    9.107055\n",
              "JFK    5.551481\n",
              "LGA    5.783488\n",
              "Name: arr_delay, dtype: float64"
            ]
          },
          "metadata": {},
          "execution_count": 4
        }
      ]
    },
    {
      "cell_type": "markdown",
      "source": [
        "Average departure delay of flights, by airport:"
      ],
      "metadata": {
        "id": "m5ZgiWebzn7k"
      }
    },
    {
      "cell_type": "code",
      "source": [
        "by_airport2 = flights.groupby([\"origin\"])\n",
        "by_airport2.dep_delay.mean()"
      ],
      "metadata": {
        "colab": {
          "base_uri": "https://localhost:8080/"
        },
        "id": "KMXv3ZaxzdC7",
        "outputId": "24c863c9-ed5b-41fe-d5bb-4a3ce4097a72"
      },
      "execution_count": null,
      "outputs": [
        {
          "output_type": "execute_result",
          "data": {
            "text/plain": [
              "origin\n",
              "EWR    15.107954\n",
              "JFK    12.112159\n",
              "LGA    10.346876\n",
              "Name: dep_delay, dtype: float64"
            ]
          },
          "metadata": {},
          "execution_count": 5
        }
      ]
    },
    {
      "cell_type": "code",
      "source": [
        "#create second new df that also filters on dep_delay for >= 60 minutes; then groupby carrier and count total number of flights for each carrier\n",
        "myflights4 = flights[flights[\"dep_delay\"] >= 60]\n",
        "myflights4 = myflights4.groupby(\"carrier\")[\"carrier\"].count()\n",
        "numflights = pd.DataFrame(myflights4)\n",
        "sum = numflights.sum()\n",
        "\n",
        "#rename columns\n",
        "numflights.columns = [\"count\"]\n",
        "numflights.reset_index(inplace=True)\n",
        "numflights = numflights.rename(columns = {\"index\":\"carrier\"})\n",
        "\n",
        "#sort number of flights and obtain the 5 carriers with the most flights, for flights with delays >= 60\n",
        "numflights.sort_values([\"count\"], inplace=True, ascending=False)\n",
        "numflights = numflights.head(5)"
      ],
      "metadata": {
        "id": "9CPu_FsJ1jgB"
      },
      "execution_count": null,
      "outputs": []
    },
    {
      "cell_type": "markdown",
      "source": [
        "What is the average air time for all flights by carrier?\n",
        "Which carrier has the longest average air time on their flights?"
      ],
      "metadata": {
        "id": "ixQEXI-qzvHc"
      }
    },
    {
      "cell_type": "code",
      "source": [
        "avg_time = flights[[\"carrier\", \"air_time\"]]\n",
        "#Drop NaNs\n",
        "avg_time = avg_time.dropna(axis=\"rows\")\n",
        "#Groupby carrier then take the mean of air_time\n",
        "avg_time = avg_time.groupby(\"carrier\")[\"air_time\"].mean()\n",
        "avg_time = pd.DataFrame(avg_time)\n",
        "avg_time.columns = [\"mean\"]\n",
        "#Sort average air_time values, by carrier, from greatest to least amount of time:\n",
        "avg_time.sort_values([\"mean\"], inplace = True, ascending = False )\n",
        "#Show the carrier with the longest average air time on their flights:\n",
        "avg_time.head(1)"
      ],
      "metadata": {
        "colab": {
          "base_uri": "https://localhost:8080/",
          "height": 112
        },
        "id": "RVkQMidv1o9Q",
        "outputId": "2e2edf27-51c6-4c3e-99bf-bb2099e7c552"
      },
      "execution_count": null,
      "outputs": [
        {
          "output_type": "execute_result",
          "data": {
            "text/plain": [
              "               mean\n",
              "carrier            \n",
              "HA       623.087719"
            ],
            "text/html": [
              "\n",
              "\n",
              "  <div id=\"df-efe8f251-77a8-42f6-8f2a-cd16a657b06e\">\n",
              "    <div class=\"colab-df-container\">\n",
              "      <div>\n",
              "<style scoped>\n",
              "    .dataframe tbody tr th:only-of-type {\n",
              "        vertical-align: middle;\n",
              "    }\n",
              "\n",
              "    .dataframe tbody tr th {\n",
              "        vertical-align: top;\n",
              "    }\n",
              "\n",
              "    .dataframe thead th {\n",
              "        text-align: right;\n",
              "    }\n",
              "</style>\n",
              "<table border=\"1\" class=\"dataframe\">\n",
              "  <thead>\n",
              "    <tr style=\"text-align: right;\">\n",
              "      <th></th>\n",
              "      <th>mean</th>\n",
              "    </tr>\n",
              "    <tr>\n",
              "      <th>carrier</th>\n",
              "      <th></th>\n",
              "    </tr>\n",
              "  </thead>\n",
              "  <tbody>\n",
              "    <tr>\n",
              "      <th>HA</th>\n",
              "      <td>623.087719</td>\n",
              "    </tr>\n",
              "  </tbody>\n",
              "</table>\n",
              "</div>\n",
              "      <button class=\"colab-df-convert\" onclick=\"convertToInteractive('df-efe8f251-77a8-42f6-8f2a-cd16a657b06e')\"\n",
              "              title=\"Convert this dataframe to an interactive table.\"\n",
              "              style=\"display:none;\">\n",
              "\n",
              "  <svg xmlns=\"http://www.w3.org/2000/svg\" height=\"24px\"viewBox=\"0 0 24 24\"\n",
              "       width=\"24px\">\n",
              "    <path d=\"M0 0h24v24H0V0z\" fill=\"none\"/>\n",
              "    <path d=\"M18.56 5.44l.94 2.06.94-2.06 2.06-.94-2.06-.94-.94-2.06-.94 2.06-2.06.94zm-11 1L8.5 8.5l.94-2.06 2.06-.94-2.06-.94L8.5 2.5l-.94 2.06-2.06.94zm10 10l.94 2.06.94-2.06 2.06-.94-2.06-.94-.94-2.06-.94 2.06-2.06.94z\"/><path d=\"M17.41 7.96l-1.37-1.37c-.4-.4-.92-.59-1.43-.59-.52 0-1.04.2-1.43.59L10.3 9.45l-7.72 7.72c-.78.78-.78 2.05 0 2.83L4 21.41c.39.39.9.59 1.41.59.51 0 1.02-.2 1.41-.59l7.78-7.78 2.81-2.81c.8-.78.8-2.07 0-2.86zM5.41 20L4 18.59l7.72-7.72 1.47 1.35L5.41 20z\"/>\n",
              "  </svg>\n",
              "      </button>\n",
              "\n",
              "\n",
              "\n",
              "    <div id=\"df-7877d5c2-4a84-4b34-9f97-7041e0254f7a\">\n",
              "      <button class=\"colab-df-quickchart\" onclick=\"quickchart('df-7877d5c2-4a84-4b34-9f97-7041e0254f7a')\"\n",
              "              title=\"Suggest charts.\"\n",
              "              style=\"display:none;\">\n",
              "\n",
              "<svg xmlns=\"http://www.w3.org/2000/svg\" height=\"24px\"viewBox=\"0 0 24 24\"\n",
              "     width=\"24px\">\n",
              "    <g>\n",
              "        <path d=\"M19 3H5c-1.1 0-2 .9-2 2v14c0 1.1.9 2 2 2h14c1.1 0 2-.9 2-2V5c0-1.1-.9-2-2-2zM9 17H7v-7h2v7zm4 0h-2V7h2v10zm4 0h-2v-4h2v4z\"/>\n",
              "    </g>\n",
              "</svg>\n",
              "      </button>\n",
              "    </div>\n",
              "\n",
              "<style>\n",
              "  .colab-df-quickchart {\n",
              "    background-color: #E8F0FE;\n",
              "    border: none;\n",
              "    border-radius: 50%;\n",
              "    cursor: pointer;\n",
              "    display: none;\n",
              "    fill: #1967D2;\n",
              "    height: 32px;\n",
              "    padding: 0 0 0 0;\n",
              "    width: 32px;\n",
              "  }\n",
              "\n",
              "  .colab-df-quickchart:hover {\n",
              "    background-color: #E2EBFA;\n",
              "    box-shadow: 0px 1px 2px rgba(60, 64, 67, 0.3), 0px 1px 3px 1px rgba(60, 64, 67, 0.15);\n",
              "    fill: #174EA6;\n",
              "  }\n",
              "\n",
              "  [theme=dark] .colab-df-quickchart {\n",
              "    background-color: #3B4455;\n",
              "    fill: #D2E3FC;\n",
              "  }\n",
              "\n",
              "  [theme=dark] .colab-df-quickchart:hover {\n",
              "    background-color: #434B5C;\n",
              "    box-shadow: 0px 1px 3px 1px rgba(0, 0, 0, 0.15);\n",
              "    filter: drop-shadow(0px 1px 2px rgba(0, 0, 0, 0.3));\n",
              "    fill: #FFFFFF;\n",
              "  }\n",
              "</style>\n",
              "\n",
              "    <script>\n",
              "      async function quickchart(key) {\n",
              "        const containerElement = document.querySelector('#' + key);\n",
              "        const charts = await google.colab.kernel.invokeFunction(\n",
              "            'suggestCharts', [key], {});\n",
              "      }\n",
              "    </script>\n",
              "\n",
              "      <script>\n",
              "\n",
              "function displayQuickchartButton(domScope) {\n",
              "  let quickchartButtonEl =\n",
              "    domScope.querySelector('#df-7877d5c2-4a84-4b34-9f97-7041e0254f7a button.colab-df-quickchart');\n",
              "  quickchartButtonEl.style.display =\n",
              "    google.colab.kernel.accessAllowed ? 'block' : 'none';\n",
              "}\n",
              "\n",
              "        displayQuickchartButton(document);\n",
              "      </script>\n",
              "      <style>\n",
              "    .colab-df-container {\n",
              "      display:flex;\n",
              "      flex-wrap:wrap;\n",
              "      gap: 12px;\n",
              "    }\n",
              "\n",
              "    .colab-df-convert {\n",
              "      background-color: #E8F0FE;\n",
              "      border: none;\n",
              "      border-radius: 50%;\n",
              "      cursor: pointer;\n",
              "      display: none;\n",
              "      fill: #1967D2;\n",
              "      height: 32px;\n",
              "      padding: 0 0 0 0;\n",
              "      width: 32px;\n",
              "    }\n",
              "\n",
              "    .colab-df-convert:hover {\n",
              "      background-color: #E2EBFA;\n",
              "      box-shadow: 0px 1px 2px rgba(60, 64, 67, 0.3), 0px 1px 3px 1px rgba(60, 64, 67, 0.15);\n",
              "      fill: #174EA6;\n",
              "    }\n",
              "\n",
              "    [theme=dark] .colab-df-convert {\n",
              "      background-color: #3B4455;\n",
              "      fill: #D2E3FC;\n",
              "    }\n",
              "\n",
              "    [theme=dark] .colab-df-convert:hover {\n",
              "      background-color: #434B5C;\n",
              "      box-shadow: 0px 1px 3px 1px rgba(0, 0, 0, 0.15);\n",
              "      filter: drop-shadow(0px 1px 2px rgba(0, 0, 0, 0.3));\n",
              "      fill: #FFFFFF;\n",
              "    }\n",
              "  </style>\n",
              "\n",
              "      <script>\n",
              "        const buttonEl =\n",
              "          document.querySelector('#df-efe8f251-77a8-42f6-8f2a-cd16a657b06e button.colab-df-convert');\n",
              "        buttonEl.style.display =\n",
              "          google.colab.kernel.accessAllowed ? 'block' : 'none';\n",
              "\n",
              "        async function convertToInteractive(key) {\n",
              "          const element = document.querySelector('#df-efe8f251-77a8-42f6-8f2a-cd16a657b06e');\n",
              "          const dataTable =\n",
              "            await google.colab.kernel.invokeFunction('convertToInteractive',\n",
              "                                                     [key], {});\n",
              "          if (!dataTable) return;\n",
              "\n",
              "          const docLinkHtml = 'Like what you see? Visit the ' +\n",
              "            '<a target=\"_blank\" href=https://colab.research.google.com/notebooks/data_table.ipynb>data table notebook</a>'\n",
              "            + ' to learn more about interactive tables.';\n",
              "          element.innerHTML = '';\n",
              "          dataTable['output_type'] = 'display_data';\n",
              "          await google.colab.output.renderOutput(dataTable, element);\n",
              "          const docLink = document.createElement('div');\n",
              "          docLink.innerHTML = docLinkHtml;\n",
              "          element.appendChild(docLink);\n",
              "        }\n",
              "      </script>\n",
              "    </div>\n",
              "  </div>\n"
            ]
          },
          "metadata": {},
          "execution_count": 26
        }
      ]
    },
    {
      "cell_type": "markdown",
      "source": [
        "HA had the longest average air time."
      ],
      "metadata": {
        "id": "4lnrBerE32B2"
      }
    },
    {
      "cell_type": "markdown",
      "source": [
        "Keeping only flights that had a delay greater than 0,\n",
        "create a histogram for each month of the delay data."
      ],
      "metadata": {
        "id": "vsKbsuPU38Nb"
      }
    },
    {
      "cell_type": "code",
      "source": [
        "myflights = flights[flights[\"dep_delay\"] > 0]\n",
        "delay_month = pd.DataFrame(myflights)\n",
        "\n",
        "plt.hist(delay_month.groupby(\"month\")[\"dep_delay\"].mean())\n",
        "plt.xlabel(\"Months\")\n",
        "plt.ylabel(\"Delays\")\n",
        "plt.title(\"Delays per Month\")\n",
        "plt.show()"
      ],
      "metadata": {
        "colab": {
          "base_uri": "https://localhost:8080/",
          "height": 472
        },
        "id": "e8uDO45tzv5t",
        "outputId": "e30af5c7-b04b-4c5e-9a0e-389e7c68fa58"
      },
      "execution_count": null,
      "outputs": [
        {
          "output_type": "display_data",
          "data": {
            "text/plain": [
              "<Figure size 640x480 with 1 Axes>"
            ],
            "image/png": "[encoded data removed]"
          },
          "metadata": {}
        }
      ]
    },
    {
      "cell_type": "markdown",
      "source": [
        "Create side-by-side boxplots of delay times for flights with\n",
        "delays of 60 minutes or greater, for the top 5 airlines, in terms of number\n",
        "of flights."
      ],
      "metadata": {
        "id": "2Ya7rExU4CRr"
      }
    },
    {
      "cell_type": "code",
      "source": [
        "#create new dataframe that filters on dep_delay for >= 60 minutes; keep only carrier and dep_delay\n",
        "myflights3 = flights[flights[\"dep_delay\"] >= 60]\n",
        "myflights3 = myflights3[[\"carrier\", \"dep_delay\"]]\n",
        "\n",
        "#create second new df that also filters on dep_delay for >= 60 minutes; then groupby carrier and count total number of flights for each carrier\n",
        "myflights4 = flights[flights[\"dep_delay\"] >= 60]\n",
        "myflights4 = myflights4.groupby(\"carrier\")[\"carrier\"].count()\n",
        "numflights = pd.DataFrame(myflights4)\n",
        "sum = numflights.sum()\n",
        "\n",
        "#rename columns\n",
        "numflights.columns = ['count']\n",
        "numflights.reset_index(inplace=True)\n",
        "numflights = numflights.rename(columns = {'index':'carrier'})\n",
        "\n",
        "#sort number of flights and obtain the 5 carriers with the most flights, for flights with delays >= 60\n",
        "numflights.sort_values(['count'], inplace=True, ascending=False)\n",
        "numflights = numflights.head(5)\n",
        "\n",
        "#merge the two dataframes together on carrier\n",
        "inner_merged = pd.merge(myflights3, numflights, on = [\"carrier\"], how = \"right\")\n",
        "\n",
        "#make a boxplot of the top 5 carriers by number of flights for departure delays >= 60 minutes:\n",
        "sns.boxplot(data=inner_merged, x=\"carrier\", y = \"dep_delay\")"
      ],
      "metadata": {
        "colab": {
          "base_uri": "https://localhost:8080/",
          "height": 467
        },
        "id": "iEyjSbho4J8W",
        "outputId": "dade5ab2-81f9-42a0-c264-1d0bc64febfe"
      },
      "execution_count": null,
      "outputs": [
        {
          "output_type": "execute_result",
          "data": {
            "text/plain": [
              "<Axes: xlabel='carrier', ylabel='dep_delay'>"
            ]
          },
          "metadata": {},
          "execution_count": 28
        },
        {
          "output_type": "display_data",
          "data": {
            "text/plain": [
              "<Figure size 640x480 with 1 Axes>"
            ],
            "image/png": "[encoded data removed]"
          },
          "metadata": {}
        }
      ]
    },
    {
      "cell_type": "markdown",
      "source": [
        "What is the oldest plane (specified by the tailnum variable) that flew from New York City airports in 2013?"
      ],
      "metadata": {
        "id": "JNXC2chH71is"
      }
    },
    {
      "cell_type": "code",
      "source": [
        "#Group flights by origin\n",
        "flights2 = flights[[\"year\", \"origin\", \"tailnum\"]]\n",
        "\n",
        "#First rename year variable from flights2. Then merge flights2 with planes to get year of manufacture from tailnum and create a new variable that is age of the plane year: 2013-year = age.\n",
        "flights2.columns = [\"year2\", \"origin\", \"tailnum\"]\n",
        "\n",
        "#Take only information that is cared about from planes and make new df\n",
        "planes2 = planes[[\"year\", \"tailnum\"]]\n",
        "\n",
        "merg4 = pd.merge(planes2, flights2, on = \"tailnum\", how=\"inner\")\n",
        "merg4[\"plane_age\"] = merg4[\"year2\"] - merg4[\"year\"]\n",
        "merg4 = merg4.drop_duplicates()\n",
        "merg4 = merg4.loc[:,[\"origin\", \"tailnum\", \"plane_age\"]].sort_values([\"plane_age\"], ascending = [False])\n",
        "merg4.head(1)"
      ],
      "metadata": {
        "colab": {
          "base_uri": "https://localhost:8080/",
          "height": 81
        },
        "id": "LK6j-Lms72kR",
        "outputId": "1e8982dd-86bb-4d9f-f674-9c42f76f421e"
      },
      "execution_count": 34,
      "outputs": [
        {
          "output_type": "execute_result",
          "data": {
            "text/plain": [
              "       origin tailnum  plane_age\n",
              "119783    JFK  N381AA       57.0"
            ],
            "text/html": [
              "\n",
              "\n",
              "  <div id=\"df-e999b4db-68d4-49db-a18a-129df70a324b\">\n",
              "    <div class=\"colab-df-container\">\n",
              "      <div>\n",
              "<style scoped>\n",
              "    .dataframe tbody tr th:only-of-type {\n",
              "        vertical-align: middle;\n",
              "    }\n",
              "\n",
              "    .dataframe tbody tr th {\n",
              "        vertical-align: top;\n",
              "    }\n",
              "\n",
              "    .dataframe thead th {\n",
              "        text-align: right;\n",
              "    }\n",
              "</style>\n",
              "<table border=\"1\" class=\"dataframe\">\n",
              "  <thead>\n",
              "    <tr style=\"text-align: right;\">\n",
              "      <th></th>\n",
              "      <th>origin</th>\n",
              "      <th>tailnum</th>\n",
              "      <th>plane_age</th>\n",
              "    </tr>\n",
              "  </thead>\n",
              "  <tbody>\n",
              "    <tr>\n",
              "      <th>119783</th>\n",
              "      <td>JFK</td>\n",
              "      <td>N381AA</td>\n",
              "      <td>57.0</td>\n",
              "    </tr>\n",
              "  </tbody>\n",
              "</table>\n",
              "</div>\n",
              "      <button class=\"colab-df-convert\" onclick=\"convertToInteractive('df-e999b4db-68d4-49db-a18a-129df70a324b')\"\n",
              "              title=\"Convert this dataframe to an interactive table.\"\n",
              "              style=\"display:none;\">\n",
              "\n",
              "  <svg xmlns=\"http://www.w3.org/2000/svg\" height=\"24px\"viewBox=\"0 0 24 24\"\n",
              "       width=\"24px\">\n",
              "    <path d=\"M0 0h24v24H0V0z\" fill=\"none\"/>\n",
              "    <path d=\"M18.56 5.44l.94 2.06.94-2.06 2.06-.94-2.06-.94-.94-2.06-.94 2.06-2.06.94zm-11 1L8.5 8.5l.94-2.06 2.06-.94-2.06-.94L8.5 2.5l-.94 2.06-2.06.94zm10 10l.94 2.06.94-2.06 2.06-.94-2.06-.94-.94-2.06-.94 2.06-2.06.94z\"/><path d=\"M17.41 7.96l-1.37-1.37c-.4-.4-.92-.59-1.43-.59-.52 0-1.04.2-1.43.59L10.3 9.45l-7.72 7.72c-.78.78-.78 2.05 0 2.83L4 21.41c.39.39.9.59 1.41.59.51 0 1.02-.2 1.41-.59l7.78-7.78 2.81-2.81c.8-.78.8-2.07 0-2.86zM5.41 20L4 18.59l7.72-7.72 1.47 1.35L5.41 20z\"/>\n",
              "  </svg>\n",
              "      </button>\n",
              "\n",
              "\n",
              "\n",
              "    <div id=\"df-b5111a61-a2fc-4e8d-8138-527e7753e199\">\n",
              "      <button class=\"colab-df-quickchart\" onclick=\"quickchart('df-b5111a61-a2fc-4e8d-8138-527e7753e199')\"\n",
              "              title=\"Suggest charts.\"\n",
              "              style=\"display:none;\">\n",
              "\n",
              "<svg xmlns=\"http://www.w3.org/2000/svg\" height=\"24px\"viewBox=\"0 0 24 24\"\n",
              "     width=\"24px\">\n",
              "    <g>\n",
              "        <path d=\"M19 3H5c-1.1 0-2 .9-2 2v14c0 1.1.9 2 2 2h14c1.1 0 2-.9 2-2V5c0-1.1-.9-2-2-2zM9 17H7v-7h2v7zm4 0h-2V7h2v10zm4 0h-2v-4h2v4z\"/>\n",
              "    </g>\n",
              "</svg>\n",
              "      </button>\n",
              "    </div>\n",
              "\n",
              "<style>\n",
              "  .colab-df-quickchart {\n",
              "    background-color: #E8F0FE;\n",
              "    border: none;\n",
              "    border-radius: 50%;\n",
              "    cursor: pointer;\n",
              "    display: none;\n",
              "    fill: #1967D2;\n",
              "    height: 32px;\n",
              "    padding: 0 0 0 0;\n",
              "    width: 32px;\n",
              "  }\n",
              "\n",
              "  .colab-df-quickchart:hover {\n",
              "    background-color: #E2EBFA;\n",
              "    box-shadow: 0px 1px 2px rgba(60, 64, 67, 0.3), 0px 1px 3px 1px rgba(60, 64, 67, 0.15);\n",
              "    fill: #174EA6;\n",
              "  }\n",
              "\n",
              "  [theme=dark] .colab-df-quickchart {\n",
              "    background-color: #3B4455;\n",
              "    fill: #D2E3FC;\n",
              "  }\n",
              "\n",
              "  [theme=dark] .colab-df-quickchart:hover {\n",
              "    background-color: #434B5C;\n",
              "    box-shadow: 0px 1px 3px 1px rgba(0, 0, 0, 0.15);\n",
              "    filter: drop-shadow(0px 1px 2px rgba(0, 0, 0, 0.3));\n",
              "    fill: #FFFFFF;\n",
              "  }\n",
              "</style>\n",
              "\n",
              "    <script>\n",
              "      async function quickchart(key) {\n",
              "        const containerElement = document.querySelector('#' + key);\n",
              "        const charts = await google.colab.kernel.invokeFunction(\n",
              "            'suggestCharts', [key], {});\n",
              "      }\n",
              "    </script>\n",
              "\n",
              "      <script>\n",
              "\n",
              "function displayQuickchartButton(domScope) {\n",
              "  let quickchartButtonEl =\n",
              "    domScope.querySelector('#df-b5111a61-a2fc-4e8d-8138-527e7753e199 button.colab-df-quickchart');\n",
              "  quickchartButtonEl.style.display =\n",
              "    google.colab.kernel.accessAllowed ? 'block' : 'none';\n",
              "}\n",
              "\n",
              "        displayQuickchartButton(document);\n",
              "      </script>\n",
              "      <style>\n",
              "    .colab-df-container {\n",
              "      display:flex;\n",
              "      flex-wrap:wrap;\n",
              "      gap: 12px;\n",
              "    }\n",
              "\n",
              "    .colab-df-convert {\n",
              "      background-color: #E8F0FE;\n",
              "      border: none;\n",
              "      border-radius: 50%;\n",
              "      cursor: pointer;\n",
              "      display: none;\n",
              "      fill: #1967D2;\n",
              "      height: 32px;\n",
              "      padding: 0 0 0 0;\n",
              "      width: 32px;\n",
              "    }\n",
              "\n",
              "    .colab-df-convert:hover {\n",
              "      background-color: #E2EBFA;\n",
              "      box-shadow: 0px 1px 2px rgba(60, 64, 67, 0.3), 0px 1px 3px 1px rgba(60, 64, 67, 0.15);\n",
              "      fill: #174EA6;\n",
              "    }\n",
              "\n",
              "    [theme=dark] .colab-df-convert {\n",
              "      background-color: #3B4455;\n",
              "      fill: #D2E3FC;\n",
              "    }\n",
              "\n",
              "    [theme=dark] .colab-df-convert:hover {\n",
              "      background-color: #434B5C;\n",
              "      box-shadow: 0px 1px 3px 1px rgba(0, 0, 0, 0.15);\n",
              "      filter: drop-shadow(0px 1px 2px rgba(0, 0, 0, 0.3));\n",
              "      fill: #FFFFFF;\n",
              "    }\n",
              "  </style>\n",
              "\n",
              "      <script>\n",
              "        const buttonEl =\n",
              "          document.querySelector('#df-e999b4db-68d4-49db-a18a-129df70a324b button.colab-df-convert');\n",
              "        buttonEl.style.display =\n",
              "          google.colab.kernel.accessAllowed ? 'block' : 'none';\n",
              "\n",
              "        async function convertToInteractive(key) {\n",
              "          const element = document.querySelector('#df-e999b4db-68d4-49db-a18a-129df70a324b');\n",
              "          const dataTable =\n",
              "            await google.colab.kernel.invokeFunction('convertToInteractive',\n",
              "                                                     [key], {});\n",
              "          if (!dataTable) return;\n",
              "\n",
              "          const docLinkHtml = 'Like what you see? Visit the ' +\n",
              "            '<a target=\"_blank\" href=https://colab.research.google.com/notebooks/data_table.ipynb>data table notebook</a>'\n",
              "            + ' to learn more about interactive tables.';\n",
              "          element.innerHTML = '';\n",
              "          dataTable['output_type'] = 'display_data';\n",
              "          await google.colab.output.renderOutput(dataTable, element);\n",
              "          const docLink = document.createElement('div');\n",
              "          docLink.innerHTML = docLinkHtml;\n",
              "          element.appendChild(docLink);\n",
              "        }\n",
              "      </script>\n",
              "    </div>\n",
              "  </div>\n"
            ]
          },
          "metadata": {},
          "execution_count": 34
        }
      ]
    },
    {
      "cell_type": "markdown",
      "source": [
        "The oldest plane, identified by tail number, is plane N381AA, with age of 57 years old."
      ],
      "metadata": {
        "id": "sV-mSUdh8hdl"
      }
    },
    {
      "cell_type": "markdown",
      "source": [
        "How many airplanes that flew from New York City are\n",
        "included in the planes table?"
      ],
      "metadata": {
        "id": "yEB-R_3E9LVE"
      }
    },
    {
      "cell_type": "code",
      "source": [
        "#Remove every flight that did not originate at a NYC airport\n",
        "flights3 = flights[(flights.origin == \"JFK\") & (flights.origin ==\"LGA\") & (flights.origin == \"EWR\")]\n",
        "\n",
        "#Create a count of every flight by tailnum\n",
        "flights3 = pd.DataFrame(flights[[\"tailnum\"]].groupby(\"tailnum\")[\"tailnum\"].count())\n",
        "flights3.columns = [\"count\"]\n",
        "sum = flights3.sum()\n",
        "flights3\n",
        "\n",
        "#Merge flights3 with planes by tailnum to have count of how many planes are in both dfs\n",
        "merg5 = pd.merge(planes, flights3, on = \"tailnum\", how = \"inner\")\n",
        "merg5 = merg5.loc[:,[\"tailnum\",\"count\"]]\n",
        "len(merg5.index)"
      ],
      "metadata": {
        "colab": {
          "base_uri": "https://localhost:8080/"
        },
        "id": "PjMgboww9ObN",
        "outputId": "16558b96-119f-438c-816f-2530885f7370"
      },
      "execution_count": 36,
      "outputs": [
        {
          "output_type": "execute_result",
          "data": {
            "text/plain": [
              "3322"
            ]
          },
          "metadata": {},
          "execution_count": 36
        }
      ]
    },
    {
      "cell_type": "markdown",
      "source": [
        "There are 3322 observations, so 3322 planes are similar between planes df and planes that flew out of a NY airport from flights dataframe."
      ],
      "metadata": {
        "id": "rp1QD0jI9jVN"
      }
    }
  ]
}